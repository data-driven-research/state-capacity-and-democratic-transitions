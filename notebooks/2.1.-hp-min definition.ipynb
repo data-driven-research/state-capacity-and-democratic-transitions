{
 "cells": [
  {
   "cell_type": "code",
   "execution_count": 1,
   "metadata": {},
   "outputs": [],
   "source": [
    "import pandas as pd\n",
    "import seaborn as sns\n",
    "import matplotlib.pyplot as plt\n",
    "from matplotlib import rcParams\n",
    "from scipy.stats import spearmanr, ttest_ind\n",
    "from tools import min_max_normalization, case_selection\n",
    "\n",
    "from datetime import datetime\n",
    "\n",
    "DATE = datetime.today().strftime(\"%Y-%m-%d\")"
   ]
  },
  {
   "cell_type": "code",
   "execution_count": 2,
   "metadata": {},
   "outputs": [],
   "source": [
    "PROXIES = {\n",
    "    \"MS.MIL.TOTL.TF.ZS\": 1, # armed forces personnel\n",
    "    \"SH.H2O.SMDW.ZS\": 0.5, # safely managed drinking water\n",
    "}\n",
    "\n",
    "YEARS = (2000, 2003, 2004, 2005, 2009, 2010, 2014)\n",
    "SUCCESSFUL_TRANSITION = (\"SRB\", \"UKR\", \"GEO\")"
   ]
  },
  {
   "cell_type": "code",
   "execution_count": 3,
   "metadata": {},
   "outputs": [],
   "source": [
    "def stateness_calculation(df, selected_cases=True):\n",
    "    \"\"\" Adapted for the 'lowest common denominator'. \"\"\"\n",
    "    \n",
    "    dataset = df.copy()\n",
    "    dataset[\"proxy_weight\"] = dataset[\"id\"].map(PROXIES)\n",
    "    dataset[\"norm\"] = dataset.groupby([\"year\", \"id\"])[\"value\"].transform(min_max_normalization)\n",
    "    dataset[\"proxy_score\"] = dataset[\"norm\"] * dataset[\"proxy_weight\"] \n",
    "    \n",
    "    g = dataset.groupby([\"year\", \"iso3\"], as_index=False)[\"proxy_score\"].sum()\n",
    "    g[\"stateness\"] = g[\"proxy_score\"] / sum(PROXIES.values()) * 100\n",
    "    g[\"successful_transition\"] = g[\"iso3\"].isin(SUCCESSFUL_TRANSITION).astype(int)\n",
    "    result = g.drop(\"proxy_score\", axis=1)\n",
    "    result[\"approach\"] = \"lowest common denominator\"\n",
    "       \n",
    "    return case_selection(result) if selected_cases else result"
   ]
  },
  {
   "cell_type": "code",
   "execution_count": 4,
   "metadata": {},
   "outputs": [],
   "source": [
    "data = pd.read_excel(\"./../data/interim/world-bank-data_2020-05-27 22_30.xlsx\")\n",
    "df = data.loc[data[\"year\"].isin(YEARS) & data[\"id\"].isin(PROXIES.keys())].copy()"
   ]
  },
  {
   "cell_type": "code",
   "execution_count": 5,
   "metadata": {},
   "outputs": [
    {
     "data": {
      "text/html": [
       "<div>\n",
       "<style scoped>\n",
       "    .dataframe tbody tr th:only-of-type {\n",
       "        vertical-align: middle;\n",
       "    }\n",
       "\n",
       "    .dataframe tbody tr th {\n",
       "        vertical-align: top;\n",
       "    }\n",
       "\n",
       "    .dataframe thead th {\n",
       "        text-align: right;\n",
       "    }\n",
       "</style>\n",
       "<table border=\"1\" class=\"dataframe\">\n",
       "  <thead>\n",
       "    <tr style=\"text-align: right;\">\n",
       "      <th></th>\n",
       "      <th>year</th>\n",
       "      <th>iso3</th>\n",
       "      <th>stateness</th>\n",
       "      <th>successful_transition</th>\n",
       "      <th>approach</th>\n",
       "    </tr>\n",
       "  </thead>\n",
       "  <tbody>\n",
       "    <tr>\n",
       "      <th>0</th>\n",
       "      <td>2000</td>\n",
       "      <td>ARM</td>\n",
       "      <td>55.919948</td>\n",
       "      <td>0</td>\n",
       "      <td>lowest common denominator</td>\n",
       "    </tr>\n",
       "    <tr>\n",
       "      <th>1</th>\n",
       "      <td>2000</td>\n",
       "      <td>AZE</td>\n",
       "      <td>48.131108</td>\n",
       "      <td>0</td>\n",
       "      <td>lowest common denominator</td>\n",
       "    </tr>\n",
       "    <tr>\n",
       "      <th>2</th>\n",
       "      <td>2000</td>\n",
       "      <td>BLR</td>\n",
       "      <td>53.253884</td>\n",
       "      <td>0</td>\n",
       "      <td>lowest common denominator</td>\n",
       "    </tr>\n",
       "    <tr>\n",
       "      <th>3</th>\n",
       "      <td>2000</td>\n",
       "      <td>EST</td>\n",
       "      <td>45.339474</td>\n",
       "      <td>0</td>\n",
       "      <td>lowest common denominator</td>\n",
       "    </tr>\n",
       "    <tr>\n",
       "      <th>4</th>\n",
       "      <td>2000</td>\n",
       "      <td>GEO</td>\n",
       "      <td>45.126335</td>\n",
       "      <td>1</td>\n",
       "      <td>lowest common denominator</td>\n",
       "    </tr>\n",
       "    <tr>\n",
       "      <th>...</th>\n",
       "      <td>...</td>\n",
       "      <td>...</td>\n",
       "      <td>...</td>\n",
       "      <td>...</td>\n",
       "      <td>...</td>\n",
       "    </tr>\n",
       "    <tr>\n",
       "      <th>107</th>\n",
       "      <td>2014</td>\n",
       "      <td>SRB</td>\n",
       "      <td>28.246336</td>\n",
       "      <td>1</td>\n",
       "      <td>lowest common denominator</td>\n",
       "    </tr>\n",
       "    <tr>\n",
       "      <th>108</th>\n",
       "      <td>2014</td>\n",
       "      <td>TJK</td>\n",
       "      <td>5.176532</td>\n",
       "      <td>0</td>\n",
       "      <td>lowest common denominator</td>\n",
       "    </tr>\n",
       "    <tr>\n",
       "      <th>109</th>\n",
       "      <td>2014</td>\n",
       "      <td>TKM</td>\n",
       "      <td>51.506052</td>\n",
       "      <td>0</td>\n",
       "      <td>lowest common denominator</td>\n",
       "    </tr>\n",
       "    <tr>\n",
       "      <th>110</th>\n",
       "      <td>2014</td>\n",
       "      <td>UKR</td>\n",
       "      <td>41.827017</td>\n",
       "      <td>1</td>\n",
       "      <td>lowest common denominator</td>\n",
       "    </tr>\n",
       "    <tr>\n",
       "      <th>111</th>\n",
       "      <td>2014</td>\n",
       "      <td>UZB</td>\n",
       "      <td>8.163996</td>\n",
       "      <td>0</td>\n",
       "      <td>lowest common denominator</td>\n",
       "    </tr>\n",
       "  </tbody>\n",
       "</table>\n",
       "<p>112 rows × 5 columns</p>\n",
       "</div>"
      ],
      "text/plain": [
       "     year iso3  stateness  successful_transition                   approach\n",
       "0    2000  ARM  55.919948                      0  lowest common denominator\n",
       "1    2000  AZE  48.131108                      0  lowest common denominator\n",
       "2    2000  BLR  53.253884                      0  lowest common denominator\n",
       "3    2000  EST  45.339474                      0  lowest common denominator\n",
       "4    2000  GEO  45.126335                      1  lowest common denominator\n",
       "..    ...  ...        ...                    ...                        ...\n",
       "107  2014  SRB  28.246336                      1  lowest common denominator\n",
       "108  2014  TJK   5.176532                      0  lowest common denominator\n",
       "109  2014  TKM  51.506052                      0  lowest common denominator\n",
       "110  2014  UKR  41.827017                      1  lowest common denominator\n",
       "111  2014  UZB   8.163996                      0  lowest common denominator\n",
       "\n",
       "[112 rows x 5 columns]"
      ]
     },
     "execution_count": 5,
     "metadata": {},
     "output_type": "execute_result"
    }
   ],
   "source": [
    "# show results for all countries\n",
    "stateness_calculation(df, selected_cases=False)"
   ]
  },
  {
   "cell_type": "code",
   "execution_count": 6,
   "metadata": {},
   "outputs": [
    {
     "data": {
      "text/html": [
       "<div>\n",
       "<style scoped>\n",
       "    .dataframe tbody tr th:only-of-type {\n",
       "        vertical-align: middle;\n",
       "    }\n",
       "\n",
       "    .dataframe tbody tr th {\n",
       "        vertical-align: top;\n",
       "    }\n",
       "\n",
       "    .dataframe thead th {\n",
       "        text-align: right;\n",
       "    }\n",
       "</style>\n",
       "<table border=\"1\" class=\"dataframe\">\n",
       "  <thead>\n",
       "    <tr style=\"text-align: right;\">\n",
       "      <th></th>\n",
       "      <th>year</th>\n",
       "      <th>iso3</th>\n",
       "      <th>stateness</th>\n",
       "      <th>successful_transition</th>\n",
       "      <th>approach</th>\n",
       "    </tr>\n",
       "  </thead>\n",
       "  <tbody>\n",
       "    <tr>\n",
       "      <th>11</th>\n",
       "      <td>2000</td>\n",
       "      <td>SRB</td>\n",
       "      <td>90.186891</td>\n",
       "      <td>1</td>\n",
       "      <td>lowest common denominator</td>\n",
       "    </tr>\n",
       "    <tr>\n",
       "      <th>20</th>\n",
       "      <td>2003</td>\n",
       "      <td>GEO</td>\n",
       "      <td>42.121186</td>\n",
       "      <td>1</td>\n",
       "      <td>lowest common denominator</td>\n",
       "    </tr>\n",
       "    <tr>\n",
       "      <th>46</th>\n",
       "      <td>2004</td>\n",
       "      <td>UKR</td>\n",
       "      <td>31.951018</td>\n",
       "      <td>1</td>\n",
       "      <td>lowest common denominator</td>\n",
       "    </tr>\n",
       "    <tr>\n",
       "      <th>54</th>\n",
       "      <td>2005</td>\n",
       "      <td>KGZ</td>\n",
       "      <td>10.603574</td>\n",
       "      <td>0</td>\n",
       "      <td>lowest common denominator</td>\n",
       "    </tr>\n",
       "    <tr>\n",
       "      <th>73</th>\n",
       "      <td>2009</td>\n",
       "      <td>MDA</td>\n",
       "      <td>13.582207</td>\n",
       "      <td>0</td>\n",
       "      <td>lowest common denominator</td>\n",
       "    </tr>\n",
       "    <tr>\n",
       "      <th>86</th>\n",
       "      <td>2010</td>\n",
       "      <td>KGZ</td>\n",
       "      <td>14.582530</td>\n",
       "      <td>0</td>\n",
       "      <td>lowest common denominator</td>\n",
       "    </tr>\n",
       "    <tr>\n",
       "      <th>110</th>\n",
       "      <td>2014</td>\n",
       "      <td>UKR</td>\n",
       "      <td>41.827017</td>\n",
       "      <td>1</td>\n",
       "      <td>lowest common denominator</td>\n",
       "    </tr>\n",
       "  </tbody>\n",
       "</table>\n",
       "</div>"
      ],
      "text/plain": [
       "     year iso3  stateness  successful_transition                   approach\n",
       "11   2000  SRB  90.186891                      1  lowest common denominator\n",
       "20   2003  GEO  42.121186                      1  lowest common denominator\n",
       "46   2004  UKR  31.951018                      1  lowest common denominator\n",
       "54   2005  KGZ  10.603574                      0  lowest common denominator\n",
       "73   2009  MDA  13.582207                      0  lowest common denominator\n",
       "86   2010  KGZ  14.582530                      0  lowest common denominator\n",
       "110  2014  UKR  41.827017                      1  lowest common denominator"
      ]
     },
     "execution_count": 6,
     "metadata": {},
     "output_type": "execute_result"
    }
   ],
   "source": [
    "# show results for selected countries\n",
    "stateness_calculation(df, selected_cases=True)"
   ]
  },
  {
   "cell_type": "code",
   "execution_count": 7,
   "metadata": {},
   "outputs": [],
   "source": [
    "min_definition = stateness_calculation(df, selected_cases=True)\n",
    "min_definition.to_excel(f\"./../data/interim/min-definition_{DATE}.xlsx\", index=False)"
   ]
  },
  {
   "cell_type": "markdown",
   "metadata": {},
   "source": [
    "---"
   ]
  },
  {
   "cell_type": "code",
   "execution_count": 8,
   "metadata": {},
   "outputs": [],
   "source": [
    "rcParams[\"font.size\"] = 10\n",
    "rcParams[\"figure.figsize\"] = 16, 10"
   ]
  },
  {
   "cell_type": "code",
   "execution_count": 9,
   "metadata": {},
   "outputs": [
    {
     "data": {
      "image/png": "[encoded data removed]",
      "text/plain": [
       "<Figure size 1152x720 with 1 Axes>"
      ]
     },
     "metadata": {
      "needs_background": "light"
     },
     "output_type": "display_data"
    }
   ],
   "source": [
    "fig = sns.scatterplot(x=\"stateness\", y=\"successful_transition\", data=min_definition)\n",
    "fig.set_title(\"Stateness ~ successful_transition: scatterplot\")\n",
    "plt.show()"
   ]
  },
  {
   "cell_type": "code",
   "execution_count": 10,
   "metadata": {},
   "outputs": [
    {
     "data": {
      "image/png": "[encoded data removed]",
      "text/plain": [
       "<Figure size 1152x720 with 1 Axes>"
      ]
     },
     "metadata": {
      "needs_background": "light"
     },
     "output_type": "display_data"
    }
   ],
   "source": [
    "fig = sns.boxplot(x=\"successful_transition\", y=\"stateness\", data=min_definition)\n",
    "fig.set_title(\"Stateness ~ successful_transition: boxplot\")\n",
    "plt.show()"
   ]
  },
  {
   "cell_type": "code",
   "execution_count": 11,
   "metadata": {},
   "outputs": [],
   "source": [
    "statistic, pvalue = ttest_ind(min_definition[\"stateness\"], min_definition[\"successful_transition\"])"
   ]
  },
  {
   "cell_type": "code",
   "execution_count": 12,
   "metadata": {},
   "outputs": [
    {
     "data": {
      "text/plain": [
       "3.2789849776280158"
      ]
     },
     "execution_count": 12,
     "metadata": {},
     "output_type": "execute_result"
    }
   ],
   "source": [
    "statistic"
   ]
  },
  {
   "cell_type": "code",
   "execution_count": 13,
   "metadata": {},
   "outputs": [
    {
     "data": {
      "text/plain": [
       "0.0065925135391564395"
      ]
     },
     "execution_count": 13,
     "metadata": {},
     "output_type": "execute_result"
    }
   ],
   "source": [
    "pvalue"
   ]
  },
  {
   "cell_type": "code",
   "execution_count": 14,
   "metadata": {},
   "outputs": [
    {
     "data": {
      "text/plain": [
       "True"
      ]
     },
     "execution_count": 14,
     "metadata": {},
     "output_type": "execute_result"
    }
   ],
   "source": [
    "pvalue < 0.01"
   ]
  }
 ],
 "metadata": {
  "kernelspec": {
   "display_name": "Python 3",
   "language": "python",
   "name": "python3"
  },
  "language_info": {
   "codemirror_mode": {
    "name": "ipython",
    "version": 3
   },
   "file_extension": ".py",
   "mimetype": "text/x-python",
   "name": "python",
   "nbconvert_exporter": "python",
   "pygments_lexer": "ipython3",
   "version": "3.7.4"
  }
 },
 "nbformat": 4,
 "nbformat_minor": 4
}
