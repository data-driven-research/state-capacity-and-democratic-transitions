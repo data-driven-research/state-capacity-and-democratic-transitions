{
 "cells": [
  {
   "cell_type": "markdown",
   "metadata": {},
   "source": [
    "# Data validation & proxy selection\n",
    "\n",
    "1. *Which proxies among those that we initially considered should be used for the calculations (based on the data availability)?*\n",
    "2. *How should selected proxies be weighted to reflect our understanding of state capacity?*\n",
    "\n",
    "## Cases\n",
    "* ARM, 2018\n",
    "* GEO, 2003\n",
    "* KGZ, 2010\n",
    "* KGZ, 2005\n",
    "* MDA, 2009\n",
    "* SRB, 2000\n",
    "* UKR, 2014\n",
    "* UKR, 2004"
   ]
  },
  {
   "cell_type": "code",
   "execution_count": 1,
   "metadata": {},
   "outputs": [],
   "source": [
    "import pandas as pd"
   ]
  },
  {
   "cell_type": "code",
   "execution_count": 2,
   "metadata": {},
   "outputs": [],
   "source": [
    "def count_missing(data, yearly=False):\n",
    "    \"\"\" Count missing values per proxy (and year). \"\"\"\n",
    "    \n",
    "    df = data.copy()\n",
    "    if yearly:\n",
    "        by = [\"year\", \"indicator\"]\n",
    "    else:\n",
    "        by = \"indicator\"\n",
    "        \n",
    "    missing = (\n",
    "        df.groupby(by).count()\n",
    "        .rsub(df.groupby(by).size(), axis=0)\n",
    "        .rename(columns={\"value\": \"Missing\"})\n",
    "    )\n",
    "    expected = (\n",
    "        df.fillna(-1)\n",
    "        .groupby(by).count()\n",
    "        .rename(columns={\"value\": \"Max possible\"})\n",
    "    )\n",
    "    \n",
    "    return pd.merge(\n",
    "        missing[[\"Missing\"]], expected[[\"Max possible\"]],\n",
    "        left_index=True, right_index=True\n",
    "    )"
   ]
  },
  {
   "cell_type": "code",
   "execution_count": 4,
   "metadata": {},
   "outputs": [],
   "source": [
    "# all post-soviet countries since 1991\n",
    "full_dataset = pd.read_excel(\"./../data/interim/world-bank-data_2020-05-27 22_30.xlsx\")\n",
    "\n",
    "# the sample we use to answer RQ #1\n",
    "selected_cases = pd.read_excel(\"./../data/interim/world-bank-selected-cases_2020-05-27 22_30.xlsx\")\n",
    "\n",
    "# ARM, 2018 excluded\n",
    "limited_sample = selected_cases.loc[selected_cases[\"year\"].ne(2018)].copy()"
   ]
  },
  {
   "cell_type": "code",
   "execution_count": 5,
   "metadata": {},
   "outputs": [
    {
     "data": {
      "text/html": [
       "<div>\n",
       "<style scoped>\n",
       "    .dataframe tbody tr th:only-of-type {\n",
       "        vertical-align: middle;\n",
       "    }\n",
       "\n",
       "    .dataframe tbody tr th {\n",
       "        vertical-align: top;\n",
       "    }\n",
       "\n",
       "    .dataframe thead th {\n",
       "        text-align: right;\n",
       "    }\n",
       "</style>\n",
       "<table border=\"1\" class=\"dataframe\">\n",
       "  <thead>\n",
       "    <tr style=\"text-align: right;\">\n",
       "      <th></th>\n",
       "      <th>Missing</th>\n",
       "      <th>Max possible</th>\n",
       "    </tr>\n",
       "    <tr>\n",
       "      <th>indicator</th>\n",
       "      <th></th>\n",
       "      <th></th>\n",
       "    </tr>\n",
       "  </thead>\n",
       "  <tbody>\n",
       "  </tbody>\n",
       "</table>\n",
       "</div>"
      ],
      "text/plain": [
       "Empty DataFrame\n",
       "Columns: [Missing, Max possible]\n",
       "Index: []"
      ]
     },
     "execution_count": 5,
     "metadata": {},
     "output_type": "execute_result"
    }
   ],
   "source": [
    "full_dataset_counts = count_missing(full_dataset)\n",
    "\n",
    "# proxies that are fully covered given the dataset\n",
    "full_dataset_counts.loc[full_dataset_counts[\"Missing\"].eq(0)]"
   ]
  },
  {
   "cell_type": "code",
   "execution_count": 6,
   "metadata": {},
   "outputs": [
    {
     "data": {
      "text/html": [
       "<div>\n",
       "<style scoped>\n",
       "    .dataframe tbody tr th:only-of-type {\n",
       "        vertical-align: middle;\n",
       "    }\n",
       "\n",
       "    .dataframe tbody tr th {\n",
       "        vertical-align: top;\n",
       "    }\n",
       "\n",
       "    .dataframe thead th {\n",
       "        text-align: right;\n",
       "    }\n",
       "</style>\n",
       "<table border=\"1\" class=\"dataframe\">\n",
       "  <thead>\n",
       "    <tr style=\"text-align: right;\">\n",
       "      <th></th>\n",
       "      <th>Missing</th>\n",
       "      <th>Max possible</th>\n",
       "    </tr>\n",
       "    <tr>\n",
       "      <th>indicator</th>\n",
       "      <th></th>\n",
       "      <th></th>\n",
       "    </tr>\n",
       "  </thead>\n",
       "  <tbody>\n",
       "    <tr>\n",
       "      <th>Military expenditure (% of GDP)</th>\n",
       "      <td>0</td>\n",
       "      <td>8</td>\n",
       "    </tr>\n",
       "    <tr>\n",
       "      <th>Mortality rate, under-5 (per 1,000 live births)</th>\n",
       "      <td>0</td>\n",
       "      <td>8</td>\n",
       "    </tr>\n",
       "  </tbody>\n",
       "</table>\n",
       "</div>"
      ],
      "text/plain": [
       "                                                 Missing  Max possible\n",
       "indicator                                                             \n",
       "Military expenditure (% of GDP)                        0             8\n",
       "Mortality rate, under-5 (per 1,000 live births)        0             8"
      ]
     },
     "execution_count": 6,
     "metadata": {},
     "output_type": "execute_result"
    }
   ],
   "source": [
    "selected_cases_counts = count_missing(selected_cases)\n",
    "\n",
    "# proxies that are fully covered given the dataset\n",
    "selected_cases_counts.loc[selected_cases_counts[\"Missing\"].eq(0)]"
   ]
  },
  {
   "cell_type": "code",
   "execution_count": 7,
   "metadata": {},
   "outputs": [
    {
     "data": {
      "text/html": [
       "<div>\n",
       "<style scoped>\n",
       "    .dataframe tbody tr th:only-of-type {\n",
       "        vertical-align: middle;\n",
       "    }\n",
       "\n",
       "    .dataframe tbody tr th {\n",
       "        vertical-align: top;\n",
       "    }\n",
       "\n",
       "    .dataframe thead th {\n",
       "        text-align: right;\n",
       "    }\n",
       "</style>\n",
       "<table border=\"1\" class=\"dataframe\">\n",
       "  <thead>\n",
       "    <tr style=\"text-align: right;\">\n",
       "      <th></th>\n",
       "      <th>Missing</th>\n",
       "      <th>Max possible</th>\n",
       "    </tr>\n",
       "    <tr>\n",
       "      <th>indicator</th>\n",
       "      <th></th>\n",
       "      <th></th>\n",
       "    </tr>\n",
       "  </thead>\n",
       "  <tbody>\n",
       "    <tr>\n",
       "      <th>Armed forces personnel (% of total labor force)</th>\n",
       "      <td>0</td>\n",
       "      <td>7</td>\n",
       "    </tr>\n",
       "    <tr>\n",
       "      <th>Electric power consumption (kWh per capita)</th>\n",
       "      <td>0</td>\n",
       "      <td>7</td>\n",
       "    </tr>\n",
       "    <tr>\n",
       "      <th>Military expenditure (% of GDP)</th>\n",
       "      <td>0</td>\n",
       "      <td>7</td>\n",
       "    </tr>\n",
       "    <tr>\n",
       "      <th>Mortality rate, under-5 (per 1,000 live births)</th>\n",
       "      <td>0</td>\n",
       "      <td>7</td>\n",
       "    </tr>\n",
       "    <tr>\n",
       "      <th>People using at least basic drinking water services (% of population)</th>\n",
       "      <td>0</td>\n",
       "      <td>7</td>\n",
       "    </tr>\n",
       "    <tr>\n",
       "      <th>People using safely managed drinking water services (% of population)</th>\n",
       "      <td>0</td>\n",
       "      <td>7</td>\n",
       "    </tr>\n",
       "  </tbody>\n",
       "</table>\n",
       "</div>"
      ],
      "text/plain": [
       "                                                    Missing  Max possible\n",
       "indicator                                                                \n",
       "Armed forces personnel (% of total labor force)           0             7\n",
       "Electric power consumption (kWh per capita)               0             7\n",
       "Military expenditure (% of GDP)                           0             7\n",
       "Mortality rate, under-5 (per 1,000 live births)           0             7\n",
       "People using at least basic drinking water serv...        0             7\n",
       "People using safely managed drinking water serv...        0             7"
      ]
     },
     "execution_count": 7,
     "metadata": {},
     "output_type": "execute_result"
    }
   ],
   "source": [
    "limited_sample_counts = count_missing(limited_sample)\n",
    "\n",
    "# proxies that are fully covered given the dataset\n",
    "limited_sample_counts.loc[limited_sample_counts[\"Missing\"].eq(0)]"
   ]
  },
  {
   "cell_type": "markdown",
   "metadata": {},
   "source": [
    "---"
   ]
  },
  {
   "cell_type": "markdown",
   "metadata": {},
   "source": [
    "Regarding the first question, I think the limited sample that excludes ARM, 2018 would be the best fit. \n",
    "\n",
    "1. Such configuration gives 6 fully-covered proxies to choose from. \n",
    "2. While it does exclude one of the cases we initially selected and reduce the sample size to 7, we could easily explain why we did so (due to the methodological limitations).   \n",
    "\n",
    "Regarding the second one, see the next notebook."
   ]
  }
 ],
 "metadata": {
  "kernelspec": {
   "display_name": "Python 3",
   "language": "python",
   "name": "python3"
  },
  "language_info": {
   "codemirror_mode": {
    "name": "ipython",
    "version": 3
   },
   "file_extension": ".py",
   "mimetype": "text/x-python",
   "name": "python",
   "nbconvert_exporter": "python",
   "pygments_lexer": "ipython3",
   "version": "3.7.4"
  }
 },
 "nbformat": 4,
 "nbformat_minor": 4
}
