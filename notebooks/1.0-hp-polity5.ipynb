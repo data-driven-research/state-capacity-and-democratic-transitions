{
 "cells": [
  {
   "cell_type": "code",
   "execution_count": 1,
   "metadata": {},
   "outputs": [],
   "source": [
    "import pandas as pd"
   ]
  },
  {
   "cell_type": "code",
   "execution_count": 2,
   "metadata": {},
   "outputs": [],
   "source": [
    "ISO3 = {\n",
    "    'Armenia':'ARM',\n",
    "    'Azerbaijan': 'AZE',\n",
    "    'Belarus':'BLR',\n",
    "    'Estonia':'EST',\n",
    "    'Georgia':'GEO',\n",
    "    'Kazakhstan':'KAZ',\n",
    "    'Kyrgyzstan':'KGZ',\n",
    "    'Lithuania':'LTU',\n",
    "    'Latvia':'LVA',\n",
    "    'Moldova': 'MDA',\n",
    "    'Serbia': 'SRB',\n",
    "    'Russia': 'RUS',\n",
    "    'Tajikistan': 'TJK',\n",
    "    'Turkmenistan': 'TKM',\n",
    "    'Ukraine': 'UKR',\n",
    "    'Uzbekistan': 'UZB'\n",
    "}\n",
    "\n",
    "COMPOSITE_INDICATORS = [\n",
    "    'year',\n",
    "    'iso3',\n",
    "    'democ', \n",
    "    'autoc',\n",
    "    'durable',\n",
    "    'polity',\n",
    "    'polity2'\n",
    "]"
   ]
  },
  {
   "cell_type": "code",
   "execution_count": 3,
   "metadata": {},
   "outputs": [],
   "source": [
    "df = pd.read_excel(\"./../data/raw/p5v2018.xls\")\n",
    "selected = df.loc[df[\"country\"].isin(ISO3.keys()) & (df[\"year\"] >= 1991)].copy()\n",
    "selected[\"iso3\"] = df[\"country\"].map(ISO3)\n",
    "selected[COMPOSITE_INDICATORS].to_excel(\"./../data/interim/P5_composite_indicators.xlsx\", index=False)"
   ]
  }
 ],
 "metadata": {
  "kernelspec": {
   "display_name": "Python 3",
   "language": "python",
   "name": "python3"
  },
  "language_info": {
   "codemirror_mode": {
    "name": "ipython",
    "version": 3
   },
   "file_extension": ".py",
   "mimetype": "text/x-python",
   "name": "python",
   "nbconvert_exporter": "python",
   "pygments_lexer": "ipython3",
   "version": "3.7.4"
  }
 },
 "nbformat": 4,
 "nbformat_minor": 4
}
