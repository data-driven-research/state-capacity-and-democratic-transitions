{
 "cells": [
  {
   "cell_type": "code",
   "execution_count": 1,
   "metadata": {},
   "outputs": [],
   "source": [
    "import pandas as pd\n",
    "import seaborn as sns\n",
    "import matplotlib.pyplot as plt\n",
    "from matplotlib import rcParams\n",
    "from scipy.stats import spearmanr, ttest_ind\n",
    "from tools import min_max_normalization, case_selection\n",
    "\n",
    "from datetime import datetime\n",
    "\n",
    "DATE = datetime.today().strftime(\"%Y-%m-%d\")"
   ]
  },
  {
   "cell_type": "code",
   "execution_count": 2,
   "metadata": {},
   "outputs": [],
   "source": [
    "NEGATIVES = [\"SH.DYN.MORT\"]\n",
    "\n",
    "PROXIES_WEIGHT = {\n",
    "    \"MS.MIL.TOTL.TF.ZS\": 2, # armed forces personnel\n",
    "    \"EG.USE.ELEC.KH.PC\": 1, # electric power consumption\n",
    "    \"MS.MIL.XPND.GD.ZS\": 1.5, # military expenditure\n",
    "    \"SH.DYN.MORT\": 2, # mortality,\n",
    "    \"SH.H2O.BASW.ZS\": 0.5, # basic drinking water servies\n",
    "    \"SH.H2O.SMDW.ZS\": 1, # safely managed drinking water\n",
    "}\n",
    "\n",
    "YEARS = (2000, 2003, 2004, 2005, 2009, 2010, 2014)\n",
    "SUCCESSFUL_TRANSITION = (\"SRB\", \"UKR\", \"GEO\")"
   ]
  },
  {
   "cell_type": "code",
   "execution_count": 3,
   "metadata": {},
   "outputs": [],
   "source": [
    "def stateness_calculation(df, selected_cases=True):\n",
    "    \n",
    "    dataset = df.copy()\n",
    "    dataset[\"proxy_weight\"] = dataset[\"id\"].map(PROXIES_WEIGHT)\n",
    "    \n",
    "    positives = dataset.loc[~dataset[\"id\"].isin(NEGATIVES)].copy()\n",
    "    negatives = dataset.loc[dataset[\"id\"].isin(NEGATIVES)].copy()\n",
    "    \n",
    "    positives[\"norm\"] = positives.groupby([\"year\", \"id\"])[\"value\"].transform(min_max_normalization)\n",
    "    negatives[\"norm\"] = negatives.groupby([\"year\", \"id\"])[\"value\"].transform(min_max_normalization, reverse=True)\n",
    "    stateness = pd.concat([positives, negatives], ignore_index=False).sort_values([\"year\", \"id\"])\n",
    "    \n",
    "    stateness[\"proxy_score\"] = stateness[\"norm\"] * stateness[\"proxy_weight\"] \n",
    "    g = stateness.groupby([\"year\", \"iso3\"], as_index=False)[\"proxy_score\"].sum()\n",
    "    g[\"stateness\"] = g[\"proxy_score\"] / sum(PROXIES_WEIGHT.values()) * 100\n",
    "    g[\"successful_transition\"] = g[\"iso3\"].isin(SUCCESSFUL_TRANSITION).astype(int)\n",
    "    g[\"approach\"] = \"fully covered\"\n",
    "    \n",
    "    return case_selection(g) if selected_cases else g"
   ]
  },
  {
   "cell_type": "code",
   "execution_count": 4,
   "metadata": {},
   "outputs": [],
   "source": [
    "data = pd.read_excel(\"./../data/interim/world-bank-data_2020-05-27 22_30.xlsx\")\n",
    "df = data.loc[data[\"year\"].isin(YEARS) & data[\"id\"].isin(PROXIES_WEIGHT.keys())].copy()"
   ]
  },
  {
   "cell_type": "code",
   "execution_count": 5,
   "metadata": {},
   "outputs": [
    {
     "data": {
      "text/html": [
       "<div>\n",
       "<style scoped>\n",
       "    .dataframe tbody tr th:only-of-type {\n",
       "        vertical-align: middle;\n",
       "    }\n",
       "\n",
       "    .dataframe tbody tr th {\n",
       "        vertical-align: top;\n",
       "    }\n",
       "\n",
       "    .dataframe thead th {\n",
       "        text-align: right;\n",
       "    }\n",
       "</style>\n",
       "<table border=\"1\" class=\"dataframe\">\n",
       "  <thead>\n",
       "    <tr style=\"text-align: right;\">\n",
       "      <th></th>\n",
       "      <th>year</th>\n",
       "      <th>iso3</th>\n",
       "      <th>proxy_score</th>\n",
       "      <th>stateness</th>\n",
       "      <th>successful_transition</th>\n",
       "      <th>approach</th>\n",
       "    </tr>\n",
       "  </thead>\n",
       "  <tbody>\n",
       "    <tr>\n",
       "      <th>0</th>\n",
       "      <td>2000</td>\n",
       "      <td>ARM</td>\n",
       "      <td>4.578842</td>\n",
       "      <td>57.235523</td>\n",
       "      <td>0</td>\n",
       "      <td>fully covered</td>\n",
       "    </tr>\n",
       "    <tr>\n",
       "      <th>1</th>\n",
       "      <td>2000</td>\n",
       "      <td>AZE</td>\n",
       "      <td>2.670696</td>\n",
       "      <td>33.383705</td>\n",
       "      <td>0</td>\n",
       "      <td>fully covered</td>\n",
       "    </tr>\n",
       "    <tr>\n",
       "      <th>2</th>\n",
       "      <td>2000</td>\n",
       "      <td>BLR</td>\n",
       "      <td>4.777724</td>\n",
       "      <td>59.721550</td>\n",
       "      <td>0</td>\n",
       "      <td>fully covered</td>\n",
       "    </tr>\n",
       "    <tr>\n",
       "      <th>3</th>\n",
       "      <td>2000</td>\n",
       "      <td>EST</td>\n",
       "      <td>4.995178</td>\n",
       "      <td>62.439728</td>\n",
       "      <td>0</td>\n",
       "      <td>fully covered</td>\n",
       "    </tr>\n",
       "    <tr>\n",
       "      <th>4</th>\n",
       "      <td>2000</td>\n",
       "      <td>GEO</td>\n",
       "      <td>3.210621</td>\n",
       "      <td>40.132759</td>\n",
       "      <td>1</td>\n",
       "      <td>fully covered</td>\n",
       "    </tr>\n",
       "    <tr>\n",
       "      <th>...</th>\n",
       "      <td>...</td>\n",
       "      <td>...</td>\n",
       "      <td>...</td>\n",
       "      <td>...</td>\n",
       "      <td>...</td>\n",
       "      <td>...</td>\n",
       "    </tr>\n",
       "    <tr>\n",
       "      <th>107</th>\n",
       "      <td>2014</td>\n",
       "      <td>SRB</td>\n",
       "      <td>4.086185</td>\n",
       "      <td>51.077310</td>\n",
       "      <td>1</td>\n",
       "      <td>fully covered</td>\n",
       "    </tr>\n",
       "    <tr>\n",
       "      <th>108</th>\n",
       "      <td>2014</td>\n",
       "      <td>TJK</td>\n",
       "      <td>0.993322</td>\n",
       "      <td>12.416525</td>\n",
       "      <td>0</td>\n",
       "      <td>fully covered</td>\n",
       "    </tr>\n",
       "    <tr>\n",
       "      <th>109</th>\n",
       "      <td>2014</td>\n",
       "      <td>TKM</td>\n",
       "      <td>2.223521</td>\n",
       "      <td>27.794007</td>\n",
       "      <td>0</td>\n",
       "      <td>fully covered</td>\n",
       "    </tr>\n",
       "    <tr>\n",
       "      <th>110</th>\n",
       "      <td>2014</td>\n",
       "      <td>UKR</td>\n",
       "      <td>4.681217</td>\n",
       "      <td>58.515209</td>\n",
       "      <td>1</td>\n",
       "      <td>fully covered</td>\n",
       "    </tr>\n",
       "    <tr>\n",
       "      <th>111</th>\n",
       "      <td>2014</td>\n",
       "      <td>UZB</td>\n",
       "      <td>1.726581</td>\n",
       "      <td>21.582259</td>\n",
       "      <td>0</td>\n",
       "      <td>fully covered</td>\n",
       "    </tr>\n",
       "  </tbody>\n",
       "</table>\n",
       "<p>112 rows × 6 columns</p>\n",
       "</div>"
      ],
      "text/plain": [
       "     year iso3  proxy_score  stateness  successful_transition       approach\n",
       "0    2000  ARM     4.578842  57.235523                      0  fully covered\n",
       "1    2000  AZE     2.670696  33.383705                      0  fully covered\n",
       "2    2000  BLR     4.777724  59.721550                      0  fully covered\n",
       "3    2000  EST     4.995178  62.439728                      0  fully covered\n",
       "4    2000  GEO     3.210621  40.132759                      1  fully covered\n",
       "..    ...  ...          ...        ...                    ...            ...\n",
       "107  2014  SRB     4.086185  51.077310                      1  fully covered\n",
       "108  2014  TJK     0.993322  12.416525                      0  fully covered\n",
       "109  2014  TKM     2.223521  27.794007                      0  fully covered\n",
       "110  2014  UKR     4.681217  58.515209                      1  fully covered\n",
       "111  2014  UZB     1.726581  21.582259                      0  fully covered\n",
       "\n",
       "[112 rows x 6 columns]"
      ]
     },
     "execution_count": 5,
     "metadata": {},
     "output_type": "execute_result"
    }
   ],
   "source": [
    "# show results for all countries\n",
    "stateness_calculation(df, selected_cases=False)"
   ]
  },
  {
   "cell_type": "code",
   "execution_count": 6,
   "metadata": {},
   "outputs": [
    {
     "data": {
      "text/html": [
       "<div>\n",
       "<style scoped>\n",
       "    .dataframe tbody tr th:only-of-type {\n",
       "        vertical-align: middle;\n",
       "    }\n",
       "\n",
       "    .dataframe tbody tr th {\n",
       "        vertical-align: top;\n",
       "    }\n",
       "\n",
       "    .dataframe thead th {\n",
       "        text-align: right;\n",
       "    }\n",
       "</style>\n",
       "<table border=\"1\" class=\"dataframe\">\n",
       "  <thead>\n",
       "    <tr style=\"text-align: right;\">\n",
       "      <th></th>\n",
       "      <th>year</th>\n",
       "      <th>iso3</th>\n",
       "      <th>proxy_score</th>\n",
       "      <th>stateness</th>\n",
       "      <th>successful_transition</th>\n",
       "      <th>approach</th>\n",
       "    </tr>\n",
       "  </thead>\n",
       "  <tbody>\n",
       "    <tr>\n",
       "      <th>11</th>\n",
       "      <td>2000</td>\n",
       "      <td>SRB</td>\n",
       "      <td>7.342169</td>\n",
       "      <td>91.777117</td>\n",
       "      <td>1</td>\n",
       "      <td>fully covered</td>\n",
       "    </tr>\n",
       "    <tr>\n",
       "      <th>20</th>\n",
       "      <td>2003</td>\n",
       "      <td>GEO</td>\n",
       "      <td>3.475322</td>\n",
       "      <td>43.441524</td>\n",
       "      <td>1</td>\n",
       "      <td>fully covered</td>\n",
       "    </tr>\n",
       "    <tr>\n",
       "      <th>46</th>\n",
       "      <td>2004</td>\n",
       "      <td>UKR</td>\n",
       "      <td>4.718378</td>\n",
       "      <td>58.979729</td>\n",
       "      <td>1</td>\n",
       "      <td>fully covered</td>\n",
       "    </tr>\n",
       "    <tr>\n",
       "      <th>54</th>\n",
       "      <td>2005</td>\n",
       "      <td>KGZ</td>\n",
       "      <td>2.189408</td>\n",
       "      <td>27.367605</td>\n",
       "      <td>0</td>\n",
       "      <td>fully covered</td>\n",
       "    </tr>\n",
       "    <tr>\n",
       "      <th>73</th>\n",
       "      <td>2009</td>\n",
       "      <td>MDA</td>\n",
       "      <td>2.429788</td>\n",
       "      <td>30.372350</td>\n",
       "      <td>0</td>\n",
       "      <td>fully covered</td>\n",
       "    </tr>\n",
       "    <tr>\n",
       "      <th>86</th>\n",
       "      <td>2010</td>\n",
       "      <td>KGZ</td>\n",
       "      <td>2.273261</td>\n",
       "      <td>28.415764</td>\n",
       "      <td>0</td>\n",
       "      <td>fully covered</td>\n",
       "    </tr>\n",
       "    <tr>\n",
       "      <th>110</th>\n",
       "      <td>2014</td>\n",
       "      <td>UKR</td>\n",
       "      <td>4.681217</td>\n",
       "      <td>58.515209</td>\n",
       "      <td>1</td>\n",
       "      <td>fully covered</td>\n",
       "    </tr>\n",
       "  </tbody>\n",
       "</table>\n",
       "</div>"
      ],
      "text/plain": [
       "     year iso3  proxy_score  stateness  successful_transition       approach\n",
       "11   2000  SRB     7.342169  91.777117                      1  fully covered\n",
       "20   2003  GEO     3.475322  43.441524                      1  fully covered\n",
       "46   2004  UKR     4.718378  58.979729                      1  fully covered\n",
       "54   2005  KGZ     2.189408  27.367605                      0  fully covered\n",
       "73   2009  MDA     2.429788  30.372350                      0  fully covered\n",
       "86   2010  KGZ     2.273261  28.415764                      0  fully covered\n",
       "110  2014  UKR     4.681217  58.515209                      1  fully covered"
      ]
     },
     "execution_count": 6,
     "metadata": {},
     "output_type": "execute_result"
    }
   ],
   "source": [
    "# show results for selected countries\n",
    "stateness_calculation(df, selected_cases=True)"
   ]
  },
  {
   "cell_type": "code",
   "execution_count": 7,
   "metadata": {},
   "outputs": [],
   "source": [
    "fully_covered_definition = stateness_calculation(df, selected_cases=True)\n",
    "fully_covered_definition.to_excel(f\"./../data/interim/fully-covered-definition_{DATE}.xlsx\", index=False)"
   ]
  },
  {
   "cell_type": "markdown",
   "metadata": {},
   "source": [
    "---"
   ]
  },
  {
   "cell_type": "code",
   "execution_count": 8,
   "metadata": {},
   "outputs": [],
   "source": [
    "rcParams[\"font.size\"] = 10\n",
    "rcParams[\"figure.figsize\"] = 16, 10"
   ]
  },
  {
   "cell_type": "code",
   "execution_count": 9,
   "metadata": {},
   "outputs": [
    {
     "data": {
      "image/png": "[encoded data removed]",
      "text/plain": [
       "<Figure size 1152x720 with 1 Axes>"
      ]
     },
     "metadata": {
      "needs_background": "light"
     },
     "output_type": "display_data"
    }
   ],
   "source": [
    "fig = sns.scatterplot(x=\"stateness\", y=\"successful_transition\", data=fully_covered_definition)\n",
    "fig.set_title(\"Stateness ~ successful_transition: scatterplot\")\n",
    "plt.show()"
   ]
  },
  {
   "cell_type": "code",
   "execution_count": 10,
   "metadata": {},
   "outputs": [
    {
     "data": {
      "image/png": "[encoded data removed]",
      "text/plain": [
       "<Figure size 1152x720 with 1 Axes>"
      ]
     },
     "metadata": {
      "needs_background": "light"
     },
     "output_type": "display_data"
    }
   ],
   "source": [
    "fig = sns.boxplot(x=\"successful_transition\", y=\"stateness\", data=fully_covered_definition)\n",
    "fig.set_title(\"Stateness ~ successful_transition: boxplot\")\n",
    "plt.show()"
   ]
  },
  {
   "cell_type": "code",
   "execution_count": 11,
   "metadata": {},
   "outputs": [],
   "source": [
    "statistic, pvalue = ttest_ind(fully_covered_definition[\"stateness\"], fully_covered_definition[\"successful_transition\"])"
   ]
  },
  {
   "cell_type": "code",
   "execution_count": 12,
   "metadata": {},
   "outputs": [
    {
     "data": {
      "text/plain": [
       "5.406048082523024"
      ]
     },
     "execution_count": 12,
     "metadata": {},
     "output_type": "execute_result"
    }
   ],
   "source": [
    "statistic"
   ]
  },
  {
   "cell_type": "code",
   "execution_count": 13,
   "metadata": {},
   "outputs": [
    {
     "data": {
      "text/plain": [
       "0.00015852427631792327"
      ]
     },
     "execution_count": 13,
     "metadata": {},
     "output_type": "execute_result"
    }
   ],
   "source": [
    "pvalue"
   ]
  },
  {
   "cell_type": "code",
   "execution_count": 14,
   "metadata": {},
   "outputs": [
    {
     "data": {
      "text/plain": [
       "True"
      ]
     },
     "execution_count": 14,
     "metadata": {},
     "output_type": "execute_result"
    }
   ],
   "source": [
    "pvalue < 0.01"
   ]
  }
 ],
 "metadata": {
  "kernelspec": {
   "display_name": "Python 3",
   "language": "python",
   "name": "python3"
  },
  "language_info": {
   "codemirror_mode": {
    "name": "ipython",
    "version": 3
   },
   "file_extension": ".py",
   "mimetype": "text/x-python",
   "name": "python",
   "nbconvert_exporter": "python",
   "pygments_lexer": "ipython3",
   "version": "3.7.4"
  }
 },
 "nbformat": 4,
 "nbformat_minor": 4
}
