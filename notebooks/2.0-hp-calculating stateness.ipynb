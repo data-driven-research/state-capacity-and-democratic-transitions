{
 "cells": [
  {
   "cell_type": "markdown",
   "metadata": {},
   "source": [
    "# Logic:\n",
    "* Normalize per param & per year\n",
    "* Assign weights for proxies\n",
    "* Calculate scores"
   ]
  },
  {
   "cell_type": "code",
   "execution_count": 1,
   "metadata": {},
   "outputs": [],
   "source": [
    "import numpy as np\n",
    "import pandas as pd\n",
    "from datetime import datetime"
   ]
  },
  {
   "cell_type": "code",
   "execution_count": 2,
   "metadata": {},
   "outputs": [],
   "source": [
    "DATE = datetime.today().strftime(\"%Y-%m-%d\")"
   ]
  },
  {
   "cell_type": "code",
   "execution_count": 3,
   "metadata": {},
   "outputs": [],
   "source": [
    "def min_max_normalization(v, reverse=False):\n",
    "    \"\"\" Apply min-max normalization per year & indicator. \"\"\"\n",
    "    \n",
    "    formula = (v - v.min()) / (v.max() - v.min())\n",
    "    if reverse:\n",
    "        return 1 - formula\n",
    "    else:\n",
    "        return formula"
   ]
  },
  {
   "cell_type": "code",
   "execution_count": 4,
   "metadata": {},
   "outputs": [],
   "source": [
    "df = pd.read_excel(\"./../data/raw/dataset_2020-05-16 21_28.xlsx\")"
   ]
  },
  {
   "cell_type": "code",
   "execution_count": 5,
   "metadata": {},
   "outputs": [],
   "source": [
    "# random data\n",
    "df[\"min_max_norm\"] = df.loc[df[\"value\"].notnull()].groupby([\"year\",\"indicator\"])[\"value\"].transform(min_max_normalization)"
   ]
  },
  {
   "cell_type": "code",
   "execution_count": 6,
   "metadata": {},
   "outputs": [],
   "source": [
    "proxy_weights_l = [1.15, 1.25, -1, -1, 1.1]\n",
    "low_weights_sum = np.sum(proxy_weights_l)\n",
    "\n",
    "df[\"weights\"] = np.select(\n",
    "    condlist=[\n",
    "        df[\"indicator\"].eq(\"Access to electricity, rural (% of rural population)\"),\n",
    "        df[\"indicator\"].eq(\"Armed forces personnel (% of total labor force)\"),\n",
    "        df[\"indicator\"].eq(\"Mortality rate, under-5 (per 1,000 live births)\"),\n",
    "        df[\"indicator\"].eq(\"Prevalence of HIV, total (% of population ages 15-49)\"),\n",
    "        df[\"indicator\"].eq(\"Tax revenue (% of GDP)\"),\n",
    "    ],\n",
    "    choicelist=proxy_weights_l\n",
    ")"
   ]
  },
  {
   "cell_type": "code",
   "execution_count": 7,
   "metadata": {},
   "outputs": [],
   "source": [
    "df[\"score\"] = df[\"min_max_norm\"] * df[\"weights\"] \n",
    "yic = df.groupby([\"year\", \"iso3\", \"category\"], as_index=False)[\"score\"].sum() \n",
    "yic[\"total_score\"] = yic[\"score\"] / low_weights_sum * 10"
   ]
  },
  {
   "cell_type": "code",
   "execution_count": 8,
   "metadata": {},
   "outputs": [],
   "source": [
    "proxy_weights_h = [1.15, 1.35, 1.75]\n",
    "high_weights_sum = np.sum(proxy_weights_h)\n",
    "\n",
    "yic[\"high_cat_weights\"] = np.select(\n",
    "    condlist=[\n",
    "        yic[\"category\"].eq(\"Medicine\"),\n",
    "        yic[\"category\"].eq(\"Infrastructure\"),\n",
    "        yic[\"category\"].eq(\"Public Sector\")\n",
    "    ],\n",
    "    choicelist=proxy_weights_h\n",
    ")"
   ]
  },
  {
   "cell_type": "code",
   "execution_count": 9,
   "metadata": {},
   "outputs": [],
   "source": [
    "yic[\"category_scores\"] = yic[\"total_score\"] * yic[\"high_cat_weights\"]\n",
    "stateness = yic.groupby([\"year\", \"iso3\"], as_index=False)[\"category_scores\"].sum()\n",
    "stateness[\"stateness\"] = stateness[\"category_scores\"] / high_weights_sum * 10"
   ]
  },
  {
   "cell_type": "markdown",
   "metadata": {},
   "source": [
    "---"
   ]
  },
  {
   "cell_type": "code",
   "execution_count": 10,
   "metadata": {},
   "outputs": [],
   "source": [
    "polity = pd.read_excel(\"./../data/interim/P5_composite_indicators.xlsx\")"
   ]
  },
  {
   "cell_type": "code",
   "execution_count": 11,
   "metadata": {},
   "outputs": [],
   "source": [
    "polity[\"polity2_norm\"] = polity.groupby(\"year\")[\"polity2\"].transform(min_max_normalization)"
   ]
  },
  {
   "cell_type": "code",
   "execution_count": 12,
   "metadata": {},
   "outputs": [],
   "source": [
    "m = pd.merge(\n",
    "    stateness.drop(\"category_scores\", 1), \n",
    "    polity[[\"scode\", \"year\", \"polity2_norm\"]],\n",
    "    how=\"left\",\n",
    "    left_on=[\"year\", \"iso3\"], right_on=[\"year\", \"scode\"]\n",
    ")"
   ]
  },
  {
   "cell_type": "code",
   "execution_count": 13,
   "metadata": {},
   "outputs": [
    {
     "data": {
      "text/html": [
       "<div>\n",
       "<style scoped>\n",
       "    .dataframe tbody tr th:only-of-type {\n",
       "        vertical-align: middle;\n",
       "    }\n",
       "\n",
       "    .dataframe tbody tr th {\n",
       "        vertical-align: top;\n",
       "    }\n",
       "\n",
       "    .dataframe thead th {\n",
       "        text-align: right;\n",
       "    }\n",
       "</style>\n",
       "<table border=\"1\" class=\"dataframe\">\n",
       "  <thead>\n",
       "    <tr style=\"text-align: right;\">\n",
       "      <th></th>\n",
       "      <th>year</th>\n",
       "      <th>iso3</th>\n",
       "      <th>stateness</th>\n",
       "      <th>scode</th>\n",
       "      <th>polity2_norm</th>\n",
       "    </tr>\n",
       "  </thead>\n",
       "  <tbody>\n",
       "    <tr>\n",
       "      <th>0</th>\n",
       "      <td>1991</td>\n",
       "      <td>ARM</td>\n",
       "      <td>-6.367964</td>\n",
       "      <td>ARM</td>\n",
       "      <td>1.0</td>\n",
       "    </tr>\n",
       "    <tr>\n",
       "      <th>1</th>\n",
       "      <td>1991</td>\n",
       "      <td>AZE</td>\n",
       "      <td>-16.191100</td>\n",
       "      <td>AZE</td>\n",
       "      <td>0.4</td>\n",
       "    </tr>\n",
       "    <tr>\n",
       "      <th>2</th>\n",
       "      <td>1991</td>\n",
       "      <td>BLR</td>\n",
       "      <td>0.000000</td>\n",
       "      <td>BLR</td>\n",
       "      <td>1.0</td>\n",
       "    </tr>\n",
       "    <tr>\n",
       "      <th>3</th>\n",
       "      <td>1991</td>\n",
       "      <td>EST</td>\n",
       "      <td>-0.462029</td>\n",
       "      <td>EST</td>\n",
       "      <td>1.0</td>\n",
       "    </tr>\n",
       "    <tr>\n",
       "      <th>4</th>\n",
       "      <td>1991</td>\n",
       "      <td>GEO</td>\n",
       "      <td>-6.488493</td>\n",
       "      <td>NaN</td>\n",
       "      <td>NaN</td>\n",
       "    </tr>\n",
       "    <tr>\n",
       "      <th>...</th>\n",
       "      <td>...</td>\n",
       "      <td>...</td>\n",
       "      <td>...</td>\n",
       "      <td>...</td>\n",
       "      <td>...</td>\n",
       "    </tr>\n",
       "    <tr>\n",
       "      <th>430</th>\n",
       "      <td>2019</td>\n",
       "      <td>RUS</td>\n",
       "      <td>0.000000</td>\n",
       "      <td>NaN</td>\n",
       "      <td>NaN</td>\n",
       "    </tr>\n",
       "    <tr>\n",
       "      <th>431</th>\n",
       "      <td>2019</td>\n",
       "      <td>TJK</td>\n",
       "      <td>0.000000</td>\n",
       "      <td>NaN</td>\n",
       "      <td>NaN</td>\n",
       "    </tr>\n",
       "    <tr>\n",
       "      <th>432</th>\n",
       "      <td>2019</td>\n",
       "      <td>TKM</td>\n",
       "      <td>0.000000</td>\n",
       "      <td>NaN</td>\n",
       "      <td>NaN</td>\n",
       "    </tr>\n",
       "    <tr>\n",
       "      <th>433</th>\n",
       "      <td>2019</td>\n",
       "      <td>UKR</td>\n",
       "      <td>0.000000</td>\n",
       "      <td>NaN</td>\n",
       "      <td>NaN</td>\n",
       "    </tr>\n",
       "    <tr>\n",
       "      <th>434</th>\n",
       "      <td>2019</td>\n",
       "      <td>UZB</td>\n",
       "      <td>0.000000</td>\n",
       "      <td>NaN</td>\n",
       "      <td>NaN</td>\n",
       "    </tr>\n",
       "  </tbody>\n",
       "</table>\n",
       "<p>435 rows × 5 columns</p>\n",
       "</div>"
      ],
      "text/plain": [
       "     year iso3  stateness scode  polity2_norm\n",
       "0    1991  ARM  -6.367964   ARM           1.0\n",
       "1    1991  AZE -16.191100   AZE           0.4\n",
       "2    1991  BLR   0.000000   BLR           1.0\n",
       "3    1991  EST  -0.462029   EST           1.0\n",
       "4    1991  GEO  -6.488493   NaN           NaN\n",
       "..    ...  ...        ...   ...           ...\n",
       "430  2019  RUS   0.000000   NaN           NaN\n",
       "431  2019  TJK   0.000000   NaN           NaN\n",
       "432  2019  TKM   0.000000   NaN           NaN\n",
       "433  2019  UKR   0.000000   NaN           NaN\n",
       "434  2019  UZB   0.000000   NaN           NaN\n",
       "\n",
       "[435 rows x 5 columns]"
      ]
     },
     "execution_count": 13,
     "metadata": {},
     "output_type": "execute_result"
    }
   ],
   "source": [
    "m"
   ]
  },
  {
   "cell_type": "code",
   "execution_count": 14,
   "metadata": {},
   "outputs": [],
   "source": [
    "m.to_excel(f\"./../data/processed/stateness_{DATE}.xlsx\", index=False)"
   ]
  }
 ],
 "metadata": {
  "kernelspec": {
   "display_name": "Python 3",
   "language": "python",
   "name": "python3"
  },
  "language_info": {
   "codemirror_mode": {
    "name": "ipython",
    "version": 3
   },
   "file_extension": ".py",
   "mimetype": "text/x-python",
   "name": "python",
   "nbconvert_exporter": "python",
   "pygments_lexer": "ipython3",
   "version": "3.7.4"
  }
 },
 "nbformat": 4,
 "nbformat_minor": 4
}
