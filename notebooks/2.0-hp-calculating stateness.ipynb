{
 "cells": [
  {
   "cell_type": "markdown",
   "metadata": {},
   "source": [
    "# Logic:\n",
    "* Normalize per param & per year\n",
    "* Assign weights for proxies\n",
    "* Calculate scores"
   ]
  },
  {
   "cell_type": "code",
   "execution_count": 1,
   "metadata": {},
   "outputs": [],
   "source": [
    "import numpy as np\n",
    "import pandas as pd\n",
    "from datetime import datetime"
   ]
  },
  {
   "cell_type": "code",
   "execution_count": 2,
   "metadata": {},
   "outputs": [],
   "source": [
    "DATE = datetime.today().strftime(\"%Y-%m-%d\")"
   ]
  },
  {
   "cell_type": "code",
   "execution_count": 3,
   "metadata": {},
   "outputs": [],
   "source": [
    "def min_max_normalization(v, reverse=False):\n",
    "    \"\"\" Apply min-max normalization per year & indicator. \"\"\"\n",
    "    \n",
    "    formula = (v - v.min()) / (v.max() - v.min())\n",
    "    if reverse:\n",
    "        return 1 - formula\n",
    "    else:\n",
    "        return formula"
   ]
  },
  {
   "cell_type": "code",
   "execution_count": 4,
   "metadata": {},
   "outputs": [],
   "source": [
    "df = pd.read_excel(\"./../data/raw/dataset_2020-05-16 21_28.xlsx\")"
   ]
  },
  {
   "cell_type": "code",
   "execution_count": 5,
   "metadata": {},
   "outputs": [],
   "source": [
    "# random data\n",
    "df[\"min_max_norm\"] = df.loc[df[\"value\"].notnull()].groupby([\"year\",\"indicator\"])[\"value\"].transform(min_max_normalization)"
   ]
  },
  {
   "cell_type": "code",
   "execution_count": 6,
   "metadata": {},
   "outputs": [],
   "source": [
    "proxy_weights_l = [1.15, 1.25, -1, -1, 1.1]\n",
    "low_weights_sum = np.sum(proxy_weights_l)\n",
    "\n",
    "df[\"weights\"] = np.select(\n",
    "    condlist=[\n",
    "        df[\"indicator\"].eq(\"Access to electricity, rural (% of rural population)\"),\n",
    "        df[\"indicator\"].eq(\"Armed forces personnel (% of total labor force)\"),\n",
    "        df[\"indicator\"].eq(\"Mortality rate, under-5 (per 1,000 live births)\"),\n",
    "        df[\"indicator\"].eq(\"Prevalence of HIV, total (% of population ages 15-49)\"),\n",
    "        df[\"indicator\"].eq(\"Tax revenue (% of GDP)\"),\n",
    "    ],\n",
    "    choicelist=proxy_weights_l\n",
    ")"
   ]
  },
  {
   "cell_type": "code",
   "execution_count": 7,
   "metadata": {},
   "outputs": [],
   "source": [
    "df[\"score\"] = df[\"min_max_norm\"] * df[\"weights\"] \n",
    "yic = df.groupby([\"year\", \"iso3\", \"category\"], as_index=False)[\"score\"].sum() \n",
    "yic[\"total_score\"] = yic[\"score\"] / low_weights_sum * 10"
   ]
  },
  {
   "cell_type": "code",
   "execution_count": 8,
   "metadata": {},
   "outputs": [],
   "source": [
    "proxy_weights_h = [1.15, 1.35, 1.75]\n",
    "high_weights_sum = np.sum(proxy_weights_h)\n",
    "\n",
    "yic[\"high_cat_weights\"] = np.select(\n",
    "    condlist=[\n",
    "        yic[\"category\"].eq(\"Medicine\"),\n",
    "        yic[\"category\"].eq(\"Infrastructure\"),\n",
    "        yic[\"category\"].eq(\"Public Sector\")\n",
    "    ],\n",
    "    choicelist=proxy_weights_h\n",
    ")"
   ]
  },
  {
   "cell_type": "code",
   "execution_count": 9,
   "metadata": {},
   "outputs": [],
   "source": [
    "yic[\"category_scores\"] = yic[\"total_score\"] * yic[\"high_cat_weights\"]\n",
    "stateness = yic.groupby([\"year\", \"iso3\"], as_index=False)[\"category_scores\"].sum()\n",
    "stateness[\"stateness\"] = stateness[\"category_scores\"] / high_weights_sum * 10"
   ]
  },
  {
   "cell_type": "markdown",
   "metadata": {},
   "source": [
    "---"
   ]
  },
  {
   "cell_type": "code",
   "execution_count": 16,
   "metadata": {},
   "outputs": [],
   "source": [
    "polity = pd.read_excel(\"./../data/interim/P5_composite_indicators.xlsx\")"
   ]
  },
  {
   "cell_type": "code",
   "execution_count": 17,
   "metadata": {},
   "outputs": [],
   "source": [
    "polity[\"polity2_norm\"] = polity.groupby(\"year\")[\"polity2\"].transform(min_max_normalization)\n",
    "polity[\"polity2_norm\"] *= 10"
   ]
  },
  {
   "cell_type": "code",
   "execution_count": 18,
   "metadata": {},
   "outputs": [],
   "source": [
    "m = pd.merge(\n",
    "    stateness.drop(\"category_scores\", 1), \n",
    "    polity[[\"iso3\", \"year\", \"polity2_norm\"]],\n",
    "    how=\"left\",\n",
    "    on=[\"year\", \"iso3\"]\n",
    ")"
   ]
  },
  {
   "cell_type": "code",
   "execution_count": 19,
   "metadata": {},
   "outputs": [],
   "source": [
    "m.to_excel(f\"./../data/processed/stateness_{DATE}.xlsx\", index=False)"
   ]
  }
 ],
 "metadata": {
  "kernelspec": {
   "display_name": "Python 3",
   "language": "python",
   "name": "python3"
  },
  "language_info": {
   "codemirror_mode": {
    "name": "ipython",
    "version": 3
   },
   "file_extension": ".py",
   "mimetype": "text/x-python",
   "name": "python",
   "nbconvert_exporter": "python",
   "pygments_lexer": "ipython3",
   "version": "3.7.4"
  }
 },
 "nbformat": 4,
 "nbformat_minor": 4
}
