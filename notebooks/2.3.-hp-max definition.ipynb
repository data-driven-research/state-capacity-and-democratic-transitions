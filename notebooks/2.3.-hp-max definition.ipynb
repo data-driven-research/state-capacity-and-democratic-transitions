{
 "cells": [
  {
   "cell_type": "code",
   "execution_count": 1,
   "metadata": {},
   "outputs": [],
   "source": [
    "import pandas as pd\n",
    "import seaborn as sns\n",
    "import matplotlib.pyplot as plt\n",
    "from matplotlib import rcParams\n",
    "from scipy.stats import spearmanr, ttest_ind\n",
    "from tools import min_max_normalization, case_selection\n",
    "\n",
    "from datetime import datetime\n",
    "\n",
    "DATE = datetime.today().strftime(\"%Y-%m-%d\")"
   ]
  },
  {
   "cell_type": "code",
   "execution_count": 2,
   "metadata": {},
   "outputs": [],
   "source": [
    "NEGATIVES = (\"SH.DYN.MORT\", \"SH.TBS.INCD\")\n",
    "PROXIES_WEIGHT = {\n",
    "    'MS.MIL.TOTL.TF.ZS': 2, # Armed forces personnel (% of total labor force)\n",
    "    'MS.MIL.XPND.GD.ZS': 1, # Military expenditure (% of GDP)\n",
    "    \n",
    "    'EG.ELC.ACCS.RU.ZS': 1, # Access to electricity, rural (% of rural population)\n",
    "    'EG.USE.ELEC.KH.PC': 1.5, # Electric power consumption (kWh per capita)\n",
    "    'SH.DYN.MORT': 2, # Mortality rate, under-5 (per 1,000 live births)\n",
    "    'SH.MED.BEDS.ZS': 1.5, # Hospital beds (per 1,000 people)\n",
    "    'SH.TBS.INCD': 2, # Incidence of tuberculosis (per 100,000 people)\n",
    "    'IS.RRS.PASG.KM': 1, # Railways, passengers carried (million passenger-km)\n",
    "    'SH.H2O.BASW.ZS': 1, # People using at least basic drinking water services (% of population)\n",
    "    'SH.H2O.SMDW.ZS': 1, # People using safely managed drinking water services (% of population)\n",
    "    #'GC.TAX.TOTL.GD.ZS': 1, # Tax revenue (% of GDP)\n",
    "    #'IQ.CPA.FISP.XQ': 1 # CPIA fiscal policy rating (1=low to 6=high)\n",
    "}\n",
    "\n",
    "CATEGORIES_WEIGHT = {\n",
    "    \"Coercion\": 2,\n",
    "    \"Infrastructure\": 1.5 \n",
    "}\n",
    "\n",
    "YEARS = (2000, 2003, 2004, 2005, 2009, 2010, 2014)\n",
    "SUCCESSFUL_TRANSITION = (\"SRB\", \"UKR\", \"GEO\")"
   ]
  },
  {
   "cell_type": "code",
   "execution_count": 3,
   "metadata": {},
   "outputs": [],
   "source": [
    "def stateness_calculation(df, selected_cases=True):\n",
    "    \n",
    "    dataset = df.copy()\n",
    "    dataset[\"proxy_weight\"] = dataset[\"id\"].map(PROXIES_WEIGHT)\n",
    "    \n",
    "    positives = dataset.loc[~dataset[\"id\"].isin(NEGATIVES)].copy()\n",
    "    negatives = dataset.loc[dataset[\"id\"].isin(NEGATIVES)].copy()\n",
    "    \n",
    "    positives[\"norm\"] = positives.groupby([\"year\", \"id\"])[\"value\"].transform(min_max_normalization)\n",
    "    negatives[\"norm\"] = negatives.groupby([\"year\", \"id\"])[\"value\"].transform(min_max_normalization, reverse=True)\n",
    "    stateness = pd.concat([positives, negatives], ignore_index=False).sort_values([\"year\", \"id\"])\n",
    "    \n",
    "    stateness[\"proxy_score\"] = stateness[\"norm\"] * stateness[\"proxy_weight\"] \n",
    "    g = stateness.groupby([\"year\", \"iso3\", \"category\"], as_index=False)[\"proxy_score\"].sum()\n",
    "    g[\"weighted_proxy_score\"] = g[\"proxy_score\"] / sum(PROXIES_WEIGHT.values())\n",
    "    \n",
    "    g[\"category_weight\"] = g[\"category\"].map(CATEGORIES_WEIGHT)\n",
    "    g[\"category_score\"] = g[\"weighted_proxy_score\"] * g[\"category_weight\"]\n",
    "    index = g.groupby([\"year\", \"iso3\"], as_index=False)[\"category_score\"].sum()\n",
    "    index[\"stateness\"] = index[\"category_score\"] / sum(CATEGORIES_WEIGHT.values()) * 100\n",
    "    index[\"successful_transition\"] = index[\"iso3\"].isin(SUCCESSFUL_TRANSITION).astype(int)\n",
    "    \n",
    "    result = index.drop(\"category_score\", 1)\n",
    "    result[\"approach\"] = \"max definition\"\n",
    "    \n",
    "    return case_selection(result) if selected_cases else result"
   ]
  },
  {
   "cell_type": "code",
   "execution_count": 4,
   "metadata": {},
   "outputs": [],
   "source": [
    "data = pd.read_excel(\"./../data/interim/world-bank-data_2020-05-27 22_30.xlsx\")\n",
    "df = data.loc[data[\"year\"].isin(YEARS) & data[\"id\"].isin(PROXIES_WEIGHT.keys())].copy()"
   ]
  },
  {
   "cell_type": "code",
   "execution_count": 5,
   "metadata": {},
   "outputs": [
    {
     "data": {
      "text/html": [
       "<div>\n",
       "<style scoped>\n",
       "    .dataframe tbody tr th:only-of-type {\n",
       "        vertical-align: middle;\n",
       "    }\n",
       "\n",
       "    .dataframe tbody tr th {\n",
       "        vertical-align: top;\n",
       "    }\n",
       "\n",
       "    .dataframe thead th {\n",
       "        text-align: right;\n",
       "    }\n",
       "</style>\n",
       "<table border=\"1\" class=\"dataframe\">\n",
       "  <thead>\n",
       "    <tr style=\"text-align: right;\">\n",
       "      <th></th>\n",
       "      <th>year</th>\n",
       "      <th>iso3</th>\n",
       "      <th>stateness</th>\n",
       "      <th>successful_transition</th>\n",
       "      <th>approach</th>\n",
       "    </tr>\n",
       "  </thead>\n",
       "  <tbody>\n",
       "    <tr>\n",
       "      <th>0</th>\n",
       "      <td>2000</td>\n",
       "      <td>ARM</td>\n",
       "      <td>24.625889</td>\n",
       "      <td>0</td>\n",
       "      <td>max definition</td>\n",
       "    </tr>\n",
       "    <tr>\n",
       "      <th>1</th>\n",
       "      <td>2000</td>\n",
       "      <td>AZE</td>\n",
       "      <td>17.727647</td>\n",
       "      <td>0</td>\n",
       "      <td>max definition</td>\n",
       "    </tr>\n",
       "    <tr>\n",
       "      <th>2</th>\n",
       "      <td>2000</td>\n",
       "      <td>BLR</td>\n",
       "      <td>30.652014</td>\n",
       "      <td>0</td>\n",
       "      <td>max definition</td>\n",
       "    </tr>\n",
       "    <tr>\n",
       "      <th>3</th>\n",
       "      <td>2000</td>\n",
       "      <td>EST</td>\n",
       "      <td>28.495669</td>\n",
       "      <td>0</td>\n",
       "      <td>max definition</td>\n",
       "    </tr>\n",
       "    <tr>\n",
       "      <th>4</th>\n",
       "      <td>2000</td>\n",
       "      <td>GEO</td>\n",
       "      <td>11.887574</td>\n",
       "      <td>1</td>\n",
       "      <td>max definition</td>\n",
       "    </tr>\n",
       "    <tr>\n",
       "      <th>...</th>\n",
       "      <td>...</td>\n",
       "      <td>...</td>\n",
       "      <td>...</td>\n",
       "      <td>...</td>\n",
       "      <td>...</td>\n",
       "    </tr>\n",
       "    <tr>\n",
       "      <th>107</th>\n",
       "      <td>2014</td>\n",
       "      <td>SRB</td>\n",
       "      <td>23.153833</td>\n",
       "      <td>1</td>\n",
       "      <td>max definition</td>\n",
       "    </tr>\n",
       "    <tr>\n",
       "      <th>108</th>\n",
       "      <td>2014</td>\n",
       "      <td>TJK</td>\n",
       "      <td>5.145219</td>\n",
       "      <td>0</td>\n",
       "      <td>max definition</td>\n",
       "    </tr>\n",
       "    <tr>\n",
       "      <th>109</th>\n",
       "      <td>2014</td>\n",
       "      <td>TKM</td>\n",
       "      <td>16.238982</td>\n",
       "      <td>0</td>\n",
       "      <td>max definition</td>\n",
       "    </tr>\n",
       "    <tr>\n",
       "      <th>110</th>\n",
       "      <td>2014</td>\n",
       "      <td>UKR</td>\n",
       "      <td>21.448615</td>\n",
       "      <td>1</td>\n",
       "      <td>max definition</td>\n",
       "    </tr>\n",
       "    <tr>\n",
       "      <th>111</th>\n",
       "      <td>2014</td>\n",
       "      <td>UZB</td>\n",
       "      <td>12.366033</td>\n",
       "      <td>0</td>\n",
       "      <td>max definition</td>\n",
       "    </tr>\n",
       "  </tbody>\n",
       "</table>\n",
       "<p>112 rows × 5 columns</p>\n",
       "</div>"
      ],
      "text/plain": [
       "     year iso3  stateness  successful_transition        approach\n",
       "0    2000  ARM  24.625889                      0  max definition\n",
       "1    2000  AZE  17.727647                      0  max definition\n",
       "2    2000  BLR  30.652014                      0  max definition\n",
       "3    2000  EST  28.495669                      0  max definition\n",
       "4    2000  GEO  11.887574                      1  max definition\n",
       "..    ...  ...        ...                    ...             ...\n",
       "107  2014  SRB  23.153833                      1  max definition\n",
       "108  2014  TJK   5.145219                      0  max definition\n",
       "109  2014  TKM  16.238982                      0  max definition\n",
       "110  2014  UKR  21.448615                      1  max definition\n",
       "111  2014  UZB  12.366033                      0  max definition\n",
       "\n",
       "[112 rows x 5 columns]"
      ]
     },
     "execution_count": 5,
     "metadata": {},
     "output_type": "execute_result"
    }
   ],
   "source": [
    "# show results for all countries\n",
    "stateness_calculation(df, selected_cases=False)"
   ]
  },
  {
   "cell_type": "code",
   "execution_count": 6,
   "metadata": {},
   "outputs": [
    {
     "data": {
      "text/html": [
       "<div>\n",
       "<style scoped>\n",
       "    .dataframe tbody tr th:only-of-type {\n",
       "        vertical-align: middle;\n",
       "    }\n",
       "\n",
       "    .dataframe tbody tr th {\n",
       "        vertical-align: top;\n",
       "    }\n",
       "\n",
       "    .dataframe thead th {\n",
       "        text-align: right;\n",
       "    }\n",
       "</style>\n",
       "<table border=\"1\" class=\"dataframe\">\n",
       "  <thead>\n",
       "    <tr style=\"text-align: right;\">\n",
       "      <th></th>\n",
       "      <th>year</th>\n",
       "      <th>iso3</th>\n",
       "      <th>stateness</th>\n",
       "      <th>successful_transition</th>\n",
       "      <th>approach</th>\n",
       "    </tr>\n",
       "  </thead>\n",
       "  <tbody>\n",
       "    <tr>\n",
       "      <th>11</th>\n",
       "      <td>2000</td>\n",
       "      <td>SRB</td>\n",
       "      <td>26.514844</td>\n",
       "      <td>1</td>\n",
       "      <td>max definition</td>\n",
       "    </tr>\n",
       "    <tr>\n",
       "      <th>20</th>\n",
       "      <td>2003</td>\n",
       "      <td>GEO</td>\n",
       "      <td>13.364165</td>\n",
       "      <td>1</td>\n",
       "      <td>max definition</td>\n",
       "    </tr>\n",
       "    <tr>\n",
       "      <th>46</th>\n",
       "      <td>2004</td>\n",
       "      <td>UKR</td>\n",
       "      <td>23.881489</td>\n",
       "      <td>1</td>\n",
       "      <td>max definition</td>\n",
       "    </tr>\n",
       "    <tr>\n",
       "      <th>54</th>\n",
       "      <td>2005</td>\n",
       "      <td>KGZ</td>\n",
       "      <td>12.504533</td>\n",
       "      <td>0</td>\n",
       "      <td>max definition</td>\n",
       "    </tr>\n",
       "    <tr>\n",
       "      <th>73</th>\n",
       "      <td>2009</td>\n",
       "      <td>MDA</td>\n",
       "      <td>14.910096</td>\n",
       "      <td>0</td>\n",
       "      <td>max definition</td>\n",
       "    </tr>\n",
       "    <tr>\n",
       "      <th>86</th>\n",
       "      <td>2010</td>\n",
       "      <td>KGZ</td>\n",
       "      <td>10.761895</td>\n",
       "      <td>0</td>\n",
       "      <td>max definition</td>\n",
       "    </tr>\n",
       "    <tr>\n",
       "      <th>110</th>\n",
       "      <td>2014</td>\n",
       "      <td>UKR</td>\n",
       "      <td>21.448615</td>\n",
       "      <td>1</td>\n",
       "      <td>max definition</td>\n",
       "    </tr>\n",
       "  </tbody>\n",
       "</table>\n",
       "</div>"
      ],
      "text/plain": [
       "     year iso3  stateness  successful_transition        approach\n",
       "11   2000  SRB  26.514844                      1  max definition\n",
       "20   2003  GEO  13.364165                      1  max definition\n",
       "46   2004  UKR  23.881489                      1  max definition\n",
       "54   2005  KGZ  12.504533                      0  max definition\n",
       "73   2009  MDA  14.910096                      0  max definition\n",
       "86   2010  KGZ  10.761895                      0  max definition\n",
       "110  2014  UKR  21.448615                      1  max definition"
      ]
     },
     "execution_count": 6,
     "metadata": {},
     "output_type": "execute_result"
    }
   ],
   "source": [
    "# show results for selected countries\n",
    "stateness_calculation(df, selected_cases=True)"
   ]
  },
  {
   "cell_type": "code",
   "execution_count": 7,
   "metadata": {},
   "outputs": [],
   "source": [
    "max_definition = stateness_calculation(df, selected_cases=True)\n",
    "max_definition.to_excel(f\"./../data/interim/max-definition_{DATE}.xlsx\", index=False)"
   ]
  },
  {
   "cell_type": "markdown",
   "metadata": {},
   "source": [
    "---"
   ]
  },
  {
   "cell_type": "code",
   "execution_count": 8,
   "metadata": {},
   "outputs": [],
   "source": [
    "rcParams[\"font.size\"] = 10\n",
    "rcParams[\"figure.figsize\"] = 16, 10"
   ]
  },
  {
   "cell_type": "code",
   "execution_count": 9,
   "metadata": {},
   "outputs": [
    {
     "data": {
      "image/png": "[encoded data removed]",
      "text/plain": [
       "<Figure size 1152x720 with 1 Axes>"
      ]
     },
     "metadata": {
      "needs_background": "light"
     },
     "output_type": "display_data"
    }
   ],
   "source": [
    "fig = sns.scatterplot(x=\"stateness\", y=\"successful_transition\", data=max_definition)\n",
    "fig.set_title(\"Stateness ~ successful_transition: scatterplot\")\n",
    "plt.show()"
   ]
  },
  {
   "cell_type": "code",
   "execution_count": 10,
   "metadata": {},
   "outputs": [
    {
     "data": {
      "image/png": "[encoded data removed]",
      "text/plain": [
       "<Figure size 1152x720 with 1 Axes>"
      ]
     },
     "metadata": {
      "needs_background": "light"
     },
     "output_type": "display_data"
    }
   ],
   "source": [
    "fig = sns.boxplot(x=\"successful_transition\", y=\"stateness\", data=max_definition)\n",
    "fig.set_title(\"Stateness ~ successful_transition: boxplot\")\n",
    "plt.show()"
   ]
  },
  {
   "cell_type": "code",
   "execution_count": 11,
   "metadata": {},
   "outputs": [],
   "source": [
    "statistic, pvalue = ttest_ind(max_definition[\"stateness\"], max_definition[\"successful_transition\"])"
   ]
  },
  {
   "cell_type": "code",
   "execution_count": 12,
   "metadata": {},
   "outputs": [
    {
     "data": {
      "text/plain": [
       "7.235540509455448"
      ]
     },
     "execution_count": 12,
     "metadata": {},
     "output_type": "execute_result"
    }
   ],
   "source": [
    "statistic"
   ]
  },
  {
   "cell_type": "code",
   "execution_count": 13,
   "metadata": {},
   "outputs": [
    {
     "data": {
      "text/plain": [
       "1.0349547943053774e-05"
      ]
     },
     "execution_count": 13,
     "metadata": {},
     "output_type": "execute_result"
    }
   ],
   "source": [
    "pvalue"
   ]
  },
  {
   "cell_type": "code",
   "execution_count": 14,
   "metadata": {},
   "outputs": [
    {
     "data": {
      "text/plain": [
       "True"
      ]
     },
     "execution_count": 14,
     "metadata": {},
     "output_type": "execute_result"
    }
   ],
   "source": [
    "pvalue < 0.01"
   ]
  }
 ],
 "metadata": {
  "kernelspec": {
   "display_name": "Python 3",
   "language": "python",
   "name": "python3"
  },
  "language_info": {
   "codemirror_mode": {
    "name": "ipython",
    "version": 3
   },
   "file_extension": ".py",
   "mimetype": "text/x-python",
   "name": "python",
   "nbconvert_exporter": "python",
   "pygments_lexer": "ipython3",
   "version": "3.7.4"
  }
 },
 "nbformat": 4,
 "nbformat_minor": 4
}
