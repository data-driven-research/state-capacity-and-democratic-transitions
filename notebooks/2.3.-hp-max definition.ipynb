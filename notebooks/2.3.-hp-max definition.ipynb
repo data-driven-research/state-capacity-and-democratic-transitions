{
 "cells": [
  {
   "cell_type": "code",
   "execution_count": 1,
   "metadata": {},
   "outputs": [],
   "source": [
    "import pandas as pd\n",
    "import seaborn as sns\n",
    "import matplotlib.pyplot as plt\n",
    "from matplotlib import rcParams\n",
    "from scipy.stats import spearmanr, ttest_ind\n",
    "from tools import min_max_normalization, case_selection\n",
    "\n",
    "from datetime import datetime\n",
    "\n",
    "DATE = datetime.today().strftime(\"%Y-%m-%d\")"
   ]
  },
  {
   "cell_type": "code",
   "execution_count": 15,
   "metadata": {},
   "outputs": [],
   "source": [
    "NEGATIVES = (\"SH.DYN.MORT\", \"SH.TBS.INCD\")\n",
    "PROXIES_WEIGHT = {\n",
    "    'MS.MIL.TOTL.TF.ZS': 1, # Armed forces personnel (% of total labor force)\n",
    "    'MS.MIL.XPND.GD.ZS': 0.5, # Military expenditure (% of GDP)\n",
    "    \n",
    "    'EG.ELC.ACCS.RU.ZS': 0.5, # Access to electricity, rural (% of rural population)\n",
    "    'EG.USE.ELEC.KH.PC': 1, # Electric power consumption (kWh per capita)\n",
    "    'SH.DYN.MORT': 1, # Mortality rate, under-5 (per 1,000 live births)\n",
    "    'SH.MED.BEDS.ZS': 1, # Hospital beds (per 1,000 people)\n",
    "    'SH.TBS.INCD': 1, # Incidence of tuberculosis (per 100,000 people)\n",
    "    'IS.RRS.PASG.KM': 0.5, # Railways, passengers carried (million passenger-km)\n",
    "    'SH.H2O.BASW.ZS': 2, # People using at least basic drinking water services (% of population)\n",
    "    'SH.H2O.SMDW.ZS': 0.5, # People using safely managed drinking water services (% of population)\n",
    "    #'GC.TAX.TOTL.GD.ZS': 1, # Tax revenue (% of GDP)\n",
    "    #'IQ.CPA.FISP.XQ': 1 # CPIA fiscal policy rating (1=low to 6=high)\n",
    "}\n",
    "\n",
    "YEARS = (2000, 2003, 2004, 2005, 2009, 2010, 2014)\n",
    "SUCCESSFUL_TRANSITION = (\"SRB\", \"UKR\", \"GEO\")"
   ]
  },
  {
   "cell_type": "code",
   "execution_count": 28,
   "metadata": {},
   "outputs": [],
   "source": [
    "def stateness_calculation(df, selected_cases=True):\n",
    "    \n",
    "    dataset = df.copy()\n",
    "    dataset[\"proxy_weight\"] = dataset[\"id\"].map(PROXIES_WEIGHT)\n",
    "    \n",
    "    positives = dataset.loc[~dataset[\"id\"].isin(NEGATIVES)].copy()\n",
    "    negatives = dataset.loc[dataset[\"id\"].isin(NEGATIVES)].copy()\n",
    "    \n",
    "    positives[\"norm\"] = positives.groupby([\"year\", \"id\"])[\"value\"].transform(min_max_normalization)\n",
    "    negatives[\"norm\"] = negatives.groupby([\"year\", \"id\"])[\"value\"].transform(min_max_normalization, reverse=True)\n",
    "    stateness = pd.concat([positives, negatives], ignore_index=False).sort_values([\"year\", \"id\"])\n",
    "    \n",
    "    stateness[\"proxy_score\"] = stateness[\"norm\"] * stateness[\"proxy_weight\"] \n",
    "    g = stateness.groupby([\"year\", \"iso3\"], as_index=False)[\"proxy_score\"].sum()\n",
    "    g[\"stateness\"] = g[\"proxy_score\"] / sum(PROXIES_WEIGHT.values()) * 100\n",
    "    g[\"successful_transition\"] = g[\"iso3\"].isin(SUCCESSFUL_TRANSITION).astype(int)\n",
    "    g[\"approach\"] = \"max definition\"\n",
    "    g.drop(\"proxy_score\", axis=1, inplace=True)\n",
    "    \n",
    "    return case_selection(g) if selected_cases else g"
   ]
  },
  {
   "cell_type": "code",
   "execution_count": 29,
   "metadata": {},
   "outputs": [],
   "source": [
    "data = pd.read_excel(\"./../data/interim/world-bank-data_2020-05-27 22_30.xlsx\")\n",
    "df = data.loc[data[\"year\"].isin(YEARS) & data[\"id\"].isin(PROXIES_WEIGHT.keys())].copy()"
   ]
  },
  {
   "cell_type": "code",
   "execution_count": 30,
   "metadata": {},
   "outputs": [
    {
     "data": {
      "text/html": [
       "<div>\n",
       "<style scoped>\n",
       "    .dataframe tbody tr th:only-of-type {\n",
       "        vertical-align: middle;\n",
       "    }\n",
       "\n",
       "    .dataframe tbody tr th {\n",
       "        vertical-align: top;\n",
       "    }\n",
       "\n",
       "    .dataframe thead th {\n",
       "        text-align: right;\n",
       "    }\n",
       "</style>\n",
       "<table border=\"1\" class=\"dataframe\">\n",
       "  <thead>\n",
       "    <tr style=\"text-align: right;\">\n",
       "      <th></th>\n",
       "      <th>year</th>\n",
       "      <th>iso3</th>\n",
       "      <th>stateness</th>\n",
       "      <th>successful_transition</th>\n",
       "      <th>approach</th>\n",
       "    </tr>\n",
       "  </thead>\n",
       "  <tbody>\n",
       "    <tr>\n",
       "      <th>0</th>\n",
       "      <td>2000</td>\n",
       "      <td>ARM</td>\n",
       "      <td>55.988853</td>\n",
       "      <td>0</td>\n",
       "      <td>max definition</td>\n",
       "    </tr>\n",
       "    <tr>\n",
       "      <th>1</th>\n",
       "      <td>2000</td>\n",
       "      <td>AZE</td>\n",
       "      <td>37.981956</td>\n",
       "      <td>0</td>\n",
       "      <td>max definition</td>\n",
       "    </tr>\n",
       "    <tr>\n",
       "      <th>2</th>\n",
       "      <td>2000</td>\n",
       "      <td>BLR</td>\n",
       "      <td>74.435477</td>\n",
       "      <td>0</td>\n",
       "      <td>max definition</td>\n",
       "    </tr>\n",
       "    <tr>\n",
       "      <th>3</th>\n",
       "      <td>2000</td>\n",
       "      <td>EST</td>\n",
       "      <td>70.351927</td>\n",
       "      <td>0</td>\n",
       "      <td>max definition</td>\n",
       "    </tr>\n",
       "    <tr>\n",
       "      <th>4</th>\n",
       "      <td>2000</td>\n",
       "      <td>GEO</td>\n",
       "      <td>34.722504</td>\n",
       "      <td>1</td>\n",
       "      <td>max definition</td>\n",
       "    </tr>\n",
       "    <tr>\n",
       "      <th>...</th>\n",
       "      <td>...</td>\n",
       "      <td>...</td>\n",
       "      <td>...</td>\n",
       "      <td>...</td>\n",
       "      <td>...</td>\n",
       "    </tr>\n",
       "    <tr>\n",
       "      <th>107</th>\n",
       "      <td>2014</td>\n",
       "      <td>SRB</td>\n",
       "      <td>49.805010</td>\n",
       "      <td>1</td>\n",
       "      <td>max definition</td>\n",
       "    </tr>\n",
       "    <tr>\n",
       "      <th>108</th>\n",
       "      <td>2014</td>\n",
       "      <td>TJK</td>\n",
       "      <td>8.705784</td>\n",
       "      <td>0</td>\n",
       "      <td>max definition</td>\n",
       "    </tr>\n",
       "    <tr>\n",
       "      <th>109</th>\n",
       "      <td>2014</td>\n",
       "      <td>TKM</td>\n",
       "      <td>44.016678</td>\n",
       "      <td>0</td>\n",
       "      <td>max definition</td>\n",
       "    </tr>\n",
       "    <tr>\n",
       "      <th>110</th>\n",
       "      <td>2014</td>\n",
       "      <td>UKR</td>\n",
       "      <td>50.456705</td>\n",
       "      <td>1</td>\n",
       "      <td>max definition</td>\n",
       "    </tr>\n",
       "    <tr>\n",
       "      <th>111</th>\n",
       "      <td>2014</td>\n",
       "      <td>UZB</td>\n",
       "      <td>37.509106</td>\n",
       "      <td>0</td>\n",
       "      <td>max definition</td>\n",
       "    </tr>\n",
       "  </tbody>\n",
       "</table>\n",
       "<p>112 rows × 5 columns</p>\n",
       "</div>"
      ],
      "text/plain": [
       "     year iso3  stateness  successful_transition        approach\n",
       "0    2000  ARM  55.988853                      0  max definition\n",
       "1    2000  AZE  37.981956                      0  max definition\n",
       "2    2000  BLR  74.435477                      0  max definition\n",
       "3    2000  EST  70.351927                      0  max definition\n",
       "4    2000  GEO  34.722504                      1  max definition\n",
       "..    ...  ...        ...                    ...             ...\n",
       "107  2014  SRB  49.805010                      1  max definition\n",
       "108  2014  TJK   8.705784                      0  max definition\n",
       "109  2014  TKM  44.016678                      0  max definition\n",
       "110  2014  UKR  50.456705                      1  max definition\n",
       "111  2014  UZB  37.509106                      0  max definition\n",
       "\n",
       "[112 rows x 5 columns]"
      ]
     },
     "execution_count": 30,
     "metadata": {},
     "output_type": "execute_result"
    }
   ],
   "source": [
    "# show results for all countries\n",
    "stateness_calculation(df, selected_cases=False)"
   ]
  },
  {
   "cell_type": "code",
   "execution_count": 31,
   "metadata": {},
   "outputs": [
    {
     "data": {
      "text/html": [
       "<div>\n",
       "<style scoped>\n",
       "    .dataframe tbody tr th:only-of-type {\n",
       "        vertical-align: middle;\n",
       "    }\n",
       "\n",
       "    .dataframe tbody tr th {\n",
       "        vertical-align: top;\n",
       "    }\n",
       "\n",
       "    .dataframe thead th {\n",
       "        text-align: right;\n",
       "    }\n",
       "</style>\n",
       "<table border=\"1\" class=\"dataframe\">\n",
       "  <thead>\n",
       "    <tr style=\"text-align: right;\">\n",
       "      <th></th>\n",
       "      <th>year</th>\n",
       "      <th>iso3</th>\n",
       "      <th>stateness</th>\n",
       "      <th>successful_transition</th>\n",
       "      <th>approach</th>\n",
       "    </tr>\n",
       "  </thead>\n",
       "  <tbody>\n",
       "    <tr>\n",
       "      <th>11</th>\n",
       "      <td>2000</td>\n",
       "      <td>SRB</td>\n",
       "      <td>59.546044</td>\n",
       "      <td>1</td>\n",
       "      <td>max definition</td>\n",
       "    </tr>\n",
       "    <tr>\n",
       "      <th>20</th>\n",
       "      <td>2003</td>\n",
       "      <td>GEO</td>\n",
       "      <td>37.376371</td>\n",
       "      <td>1</td>\n",
       "      <td>max definition</td>\n",
       "    </tr>\n",
       "    <tr>\n",
       "      <th>46</th>\n",
       "      <td>2004</td>\n",
       "      <td>UKR</td>\n",
       "      <td>60.259773</td>\n",
       "      <td>1</td>\n",
       "      <td>max definition</td>\n",
       "    </tr>\n",
       "    <tr>\n",
       "      <th>54</th>\n",
       "      <td>2005</td>\n",
       "      <td>KGZ</td>\n",
       "      <td>31.021004</td>\n",
       "      <td>0</td>\n",
       "      <td>max definition</td>\n",
       "    </tr>\n",
       "    <tr>\n",
       "      <th>73</th>\n",
       "      <td>2009</td>\n",
       "      <td>MDA</td>\n",
       "      <td>37.780018</td>\n",
       "      <td>0</td>\n",
       "      <td>max definition</td>\n",
       "    </tr>\n",
       "    <tr>\n",
       "      <th>86</th>\n",
       "      <td>2010</td>\n",
       "      <td>KGZ</td>\n",
       "      <td>27.388134</td>\n",
       "      <td>0</td>\n",
       "      <td>max definition</td>\n",
       "    </tr>\n",
       "    <tr>\n",
       "      <th>110</th>\n",
       "      <td>2014</td>\n",
       "      <td>UKR</td>\n",
       "      <td>50.456705</td>\n",
       "      <td>1</td>\n",
       "      <td>max definition</td>\n",
       "    </tr>\n",
       "  </tbody>\n",
       "</table>\n",
       "</div>"
      ],
      "text/plain": [
       "     year iso3  stateness  successful_transition        approach\n",
       "11   2000  SRB  59.546044                      1  max definition\n",
       "20   2003  GEO  37.376371                      1  max definition\n",
       "46   2004  UKR  60.259773                      1  max definition\n",
       "54   2005  KGZ  31.021004                      0  max definition\n",
       "73   2009  MDA  37.780018                      0  max definition\n",
       "86   2010  KGZ  27.388134                      0  max definition\n",
       "110  2014  UKR  50.456705                      1  max definition"
      ]
     },
     "execution_count": 31,
     "metadata": {},
     "output_type": "execute_result"
    }
   ],
   "source": [
    "# show results for selected countries\n",
    "stateness_calculation(df, selected_cases=True)"
   ]
  },
  {
   "cell_type": "code",
   "execution_count": 32,
   "metadata": {},
   "outputs": [],
   "source": [
    "max_definition = stateness_calculation(df, selected_cases=True)\n",
    "max_definition.to_excel(f\"./../data/interim/max-definition_{DATE}.xlsx\", index=False)"
   ]
  },
  {
   "cell_type": "markdown",
   "metadata": {},
   "source": [
    "---"
   ]
  },
  {
   "cell_type": "code",
   "execution_count": 33,
   "metadata": {},
   "outputs": [],
   "source": [
    "rcParams[\"font.size\"] = 10\n",
    "rcParams[\"figure.figsize\"] = 16, 10"
   ]
  },
  {
   "cell_type": "code",
   "execution_count": 34,
   "metadata": {},
   "outputs": [
    {
     "data": {
      "image/png": "[encoded data removed]",
      "text/plain": [
       "<Figure size 1152x720 with 1 Axes>"
      ]
     },
     "metadata": {
      "needs_background": "light"
     },
     "output_type": "display_data"
    }
   ],
   "source": [
    "fig = sns.scatterplot(x=\"stateness\", y=\"successful_transition\", data=max_definition)\n",
    "fig.set_title(\"Stateness ~ successful_transition: scatterplot\")\n",
    "plt.show()"
   ]
  },
  {
   "cell_type": "code",
   "execution_count": 35,
   "metadata": {},
   "outputs": [
    {
     "data": {
      "image/png": "[encoded data removed]",
      "text/plain": [
       "<Figure size 1152x720 with 1 Axes>"
      ]
     },
     "metadata": {
      "needs_background": "light"
     },
     "output_type": "display_data"
    }
   ],
   "source": [
    "fig = sns.boxplot(x=\"successful_transition\", y=\"stateness\", data=max_definition)\n",
    "fig.set_title(\"Stateness ~ successful_transition: boxplot\")\n",
    "plt.show()"
   ]
  },
  {
   "cell_type": "code",
   "execution_count": 36,
   "metadata": {},
   "outputs": [],
   "source": [
    "statistic, pvalue = ttest_ind(max_definition[\"stateness\"], max_definition[\"successful_transition\"])"
   ]
  },
  {
   "cell_type": "code",
   "execution_count": 37,
   "metadata": {},
   "outputs": [
    {
     "data": {
      "text/plain": [
       "8.47047400291889"
      ]
     },
     "execution_count": 37,
     "metadata": {},
     "output_type": "execute_result"
    }
   ],
   "source": [
    "statistic"
   ]
  },
  {
   "cell_type": "code",
   "execution_count": 38,
   "metadata": {},
   "outputs": [
    {
     "data": {
      "text/plain": [
       "2.0847007658262208e-06"
      ]
     },
     "execution_count": 38,
     "metadata": {},
     "output_type": "execute_result"
    }
   ],
   "source": [
    "pvalue"
   ]
  },
  {
   "cell_type": "code",
   "execution_count": 39,
   "metadata": {},
   "outputs": [
    {
     "data": {
      "text/plain": [
       "True"
      ]
     },
     "execution_count": 39,
     "metadata": {},
     "output_type": "execute_result"
    }
   ],
   "source": [
    "pvalue < 0.01"
   ]
  }
 ],
 "metadata": {
  "kernelspec": {
   "display_name": "Python 3",
   "language": "python",
   "name": "python3"
  },
  "language_info": {
   "codemirror_mode": {
    "name": "ipython",
    "version": 3
   },
   "file_extension": ".py",
   "mimetype": "text/x-python",
   "name": "python",
   "nbconvert_exporter": "python",
   "pygments_lexer": "ipython3",
   "version": "3.7.4"
  }
 },
 "nbformat": 4,
 "nbformat_minor": 4
}
